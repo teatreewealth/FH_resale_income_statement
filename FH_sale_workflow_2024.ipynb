{
 "cells": [
  {
   "cell_type": "markdown",
   "metadata": {},
   "source": [
    "## FH Resale P&L\n",
    "We are going to experiment with Python and how it can help me with automante some of the tasks related to property management.\n",
    "In this particular occasion we are going to use it to do the following:\n",
    "\n",
    "- find the documents needeed to complete the sale of FH in London\n",
    "- create a cashflow scenario for the sale\n",
    "- recalculate all the costs including:\n",
    "    * purchase fees (2016)\n",
    "    * legal\n",
    "    * CAPEX\n",
    "    * maintenance\n",
    "    * service charges and other annual fees \n",
    "    * selling fees (2020, 2024)\n",
    "- calculate the opportunity cost of FH purchase. I will need all the expenses except the rent \n",
    "- create a dataframe with invetory items for sale"
   ]
  },
  {
   "cell_type": "markdown",
   "metadata": {},
   "source": [
    "### Cost of sale 2024"
   ]
  },
  {
   "cell_type": "code",
   "execution_count": 3,
   "metadata": {},
   "outputs": [
    {
     "name": "stdout",
     "output_type": "stream",
     "text": [
      "63819.61\n"
     ]
    }
   ],
   "source": [
    "import pandas as pd\n",
    "\n",
    "# Load the Excel file\n",
    "#file_path = r\"C:\\Users\\GCalisi\\Downloads\\FH_resale_dataframe.xlsx\"\n",
    "\n",
    "# Read the Excel file into a DataFrame\n",
    "df = pd.read_excel('FH_resale_dataframe.xlsx')\n",
    "\n",
    "# Display the DataFrame\n",
    "#print(df)\n",
    "\n",
    "#calculate the totals\n",
    "total_resale_cost = df['Amount (GBP)'].sum() * -1\n",
    "#print(total_resale_cost)\n",
    "\n",
    "#ask price\n",
    "valuation = 470000.00\n",
    "ask_price_full = valuation\n",
    "shared_own_price = ask_price_full * 0.35\n",
    "#print(shared_own_price)\n",
    "\n",
    "mortgage_balance_sep_2024 = '-88620.59'\n",
    "#mortgage_bal_num = pd.to_numeric(mortgage_balance_sep_2024, errors='coerce')\n",
    "mortgage_balance_sep_2024_float = float(mortgage_balance_sep_2024)\n",
    "#print(mortgage_bal_num)\n",
    "\n",
    "sale_proceds_gross = shared_own_price + mortgage_balance_sep_2024_float\n",
    "sale_proceds_net = sale_proceds_gross + total_resale_cost\n",
    "print(sale_proceds_net)"
   ]
  },
  {
   "cell_type": "markdown",
   "metadata": {},
   "source": [
    "### Calculate all purchase fees and store them into an array \n",
    "\n",
    "- when did I purchase the property? 2016\n",
    "- what costs did I incurr? \n",
    "    * housing association fee\n",
    "    * mortgage broker fee\n",
    "    * income protection fee \n",
    "    * mortgage fee\n",
    "- do I need to include mortgage costs in the calculation? yes, just the interest\n",
    "\n",
    "\n",
    "#### purchase costs\n",
    "26/09/2016\tAFFINITY SUTTON LONDON\t-500\n",
    "04/10/2016\tWWW.LEEDSBUILDINGS 01132257777\t-35\n",
    "05/10/2016\tLEXICA LAW 01227 812701\t-350\n",
    "27/10/2016\tMORTGAGE ADVICE BU DERBY VIS\t-350\n",
    "22/11/2016\tChristian Benjamin FH Inventory BP\t-500\n",
    "22/11/2016\t10484RR0015H GBN2211693TY3MWW PAYMENT CHARGE DR\t-30\n",
    "22/11/2016\t10484RR0015H GBN2211693TY3MWW DIRECTION LAW DR\t-15,000.00\n",
    "23/11/2016\tDirection Law LJQ/CZY/CAL107/1 BP\t-2,493.71\n",
    "\n",
    "#### selling costs 2020\n",
    "import the file from the file annual_budget_budget_2020\n",
    "search for the re-sale entries related to\n",
    "- valuation report\n",
    "- listing fees \n",
    "\n",
    "#### selling costs 2024\n",
    "- UP selling fee 1.5% + VAT\n",
    "- clarion resale admin fee £180\n",
    "- clarion legal fee £420\n",
    "- abortive fee £600\n",
    "- valuation report\n",
    "- EPC \n",
    "- improvements costs\n",
    "- solicitors\n",
    "\n",
    "\n",
    "#### total cost of home ownership\n",
    "- deposit\n",
    "- stamp duty\n",
    "- legal fees\n",
    "- mortgage fees\n",
    "- property tax\n",
    "- utilities\n",
    "\n",
    "\n",
    "- maitenance\n",
    "- improvements\n",
    "- service charges\n",
    "- groud rent\n",
    "- admin fees\n",
    "- valutations\n",
    "- listing fees\n",
    "- furnitures\n",
    "- interests"
   ]
  },
  {
   "cell_type": "code",
   "execution_count": 1,
   "metadata": {},
   "outputs": [],
   "source": [
    "import pandas as pd"
   ]
  },
  {
   "cell_type": "code",
   "execution_count": 4,
   "metadata": {},
   "outputs": [],
   "source": [
    "##selling costs 2020\n",
    "\n",
    "file_path = r\"C:\\Users\\gcalisi\\Downloads\\annual_budget_2020_GBP - expense_log.csv\"\n",
    "budget_2020 = pd.read_csv(file_path)\n",
    "#print(budget_2020.columns)\n",
    "\n"
   ]
  },
  {
   "cell_type": "code",
   "execution_count": 6,
   "metadata": {},
   "outputs": [
    {
     "data": {
      "text/html": [
       "<div>\n",
       "<style scoped>\n",
       "    .dataframe tbody tr th:only-of-type {\n",
       "        vertical-align: middle;\n",
       "    }\n",
       "\n",
       "    .dataframe tbody tr th {\n",
       "        vertical-align: top;\n",
       "    }\n",
       "\n",
       "    .dataframe thead th {\n",
       "        text-align: right;\n",
       "    }\n",
       "</style>\n",
       "<table border=\"1\" class=\"dataframe\">\n",
       "  <thead>\n",
       "    <tr style=\"text-align: right;\">\n",
       "      <th></th>\n",
       "      <th>date</th>\n",
       "      <th>type</th>\n",
       "      <th>note</th>\n",
       "      <th>amount</th>\n",
       "      <th>group</th>\n",
       "      <th>category</th>\n",
       "      <th>subcategory</th>\n",
       "      <th>month</th>\n",
       "      <th>payment_method</th>\n",
       "    </tr>\n",
       "  </thead>\n",
       "  <tbody>\n",
       "    <tr>\n",
       "      <th>66</th>\n",
       "      <td>06/08/2020</td>\n",
       "      <td>BP</td>\n",
       "      <td>Valuation Report</td>\n",
       "      <td>-295.00</td>\n",
       "      <td>expense</td>\n",
       "      <td>home</td>\n",
       "      <td>other</td>\n",
       "      <td>8</td>\n",
       "      <td>hsbc_bank_transfer</td>\n",
       "    </tr>\n",
       "  </tbody>\n",
       "</table>\n",
       "</div>"
      ],
      "text/plain": [
       "          date type              note   amount    group category subcategory  \\\n",
       "66  06/08/2020   BP  Valuation Report  -295.00  expense     home       other   \n",
       "\n",
       "    month      payment_method  \n",
       "66      8  hsbc_bank_transfer  "
      ]
     },
     "execution_count": 6,
     "metadata": {},
     "output_type": "execute_result"
    }
   ],
   "source": [
    "#search for records where group = home and category = other\n",
    "is_group = budget_2020[\"group\"] == 'expense'\n",
    "is_category = budget_2020[\"category\"] == 'home'\n",
    "is_subcategory = budget_2020[\"subcategory\"] == 'other'\n",
    "is_month = budget_2020[\"month\"] > 7\n",
    "\n",
    "valuation_cost_2020 = -295\n",
    "CAPEX_2020 = -254 + -56\n",
    "maintenance_2020 = -30 + - 170\n",
    "budget_2020[is_group & is_category & is_subcategory]\n"
   ]
  },
  {
   "cell_type": "markdown",
   "metadata": {},
   "source": [
    "Assuming your dataframe is called 'my_df'\n",
    "grouped_by_category = my_df.groupby('category')\n",
    "\n",
    "Now you can perform various operations on these groups!\n",
    "For example, let's find the total amount spent in each category:\n",
    "total_amount_by_category = grouped_by_category['amount'].sum()\n",
    "\n",
    "Or maybe you want to know how many unique subcategories exist within each category:\n",
    "unique_subcategories_by_category = grouped_by_category['subcategory'].nunique()\n",
    "\n",
    "Feel free to customize and explore further based on your analysis needs!\n",
    "\n",
    "And don't forget to grab a cup of virtual coffee while your dataframe socializes. ☕\n"
   ]
  },
  {
   "cell_type": "markdown",
   "metadata": {},
   "source": [
    "### Costs since inception"
   ]
  },
  {
   "cell_type": "markdown",
   "metadata": {},
   "source": [
    "I must import all budget files since 2016 into separate dataframe \n",
    "Take only the common columns like \n",
    "- date\n",
    "- notes\n",
    "- category\n",
    "- subcategory\n",
    "- amount\n",
    "Merge the dataframe into a consolidated version "
   ]
  },
  {
   "cell_type": "code",
   "execution_count": 7,
   "metadata": {},
   "outputs": [],
   "source": [
    "#initialise pandas\n",
    "import pandas as pd"
   ]
  },
  {
   "cell_type": "code",
   "execution_count": 2,
   "metadata": {},
   "outputs": [],
   "source": [
    "file_path_2016 = r\"C:\\Users\\gcalisi\\Downloads\\2016_household_budget - budget_2016.csv\"\n",
    "file_path_2017 = r\"C:\\Users\\gcalisi\\Downloads\\2017_household_budget - expense_log.csv\"\n",
    "file_path_2018 = r\"C:\\Users\\gcalisi\\Downloads\\annual_budget_2018 - expense_log.csv\"\n",
    "file_path_2019 = r\"C:\\Users\\gcalisi\\Downloads\\annual_budget_2019_GBP - expense_log.csv\"\n",
    "file_path_2020 = r\"C:\\Users\\gcalisi\\Downloads\\annual_budget_2020_GBP - expense_log.csv\"\n",
    "file_path_2021 = r\"C:\\Users\\gcalisi\\Downloads\\income_statement_2021_GBP - expense_log.csv\"\n",
    "file_path_2022 = r\"C:\\Users\\gcalisi\\Downloads\\income_statement_2022_GBP - expense_log.csv\"\n",
    "file_path_2023 = r\"C:\\Users\\gcalisi\\Downloads\\UK_annual_report_2023 - expense_log.csv\"\n",
    "\n",
    "\n",
    "budget_2016 = pd.read_csv(file_path_2016)\n"
   ]
  },
  {
   "cell_type": "markdown",
   "metadata": {},
   "source": [
    "## Process home ownership costs 2016\n",
    "- deposit\n",
    "- legal fees\n",
    "- admin fees (housing association)\n",
    "- inventory cost\n",
    "- removal fees\n",
    "- cleaning fees\n",
    "- furnitures\n",
    "\n",
    "*2016 costs run until November. I must complete the file and re-upload it*\n"
   ]
  },
  {
   "cell_type": "code",
   "execution_count": 13,
   "metadata": {},
   "outputs": [
    {
     "name": "stdout",
     "output_type": "stream",
     "text": [
      "budget_group\n",
      "financial_advice    -350.00\n",
      "household          -1886.56\n",
      "others             -1501.45\n",
      "property            -745.84\n",
      "Name: amount, dtype: float64\n"
     ]
    }
   ],
   "source": [
    "budget_2016 = pd.read_csv(file_path_2016)\n",
    "\n",
    "#data cleaning\n",
    "budget_2016['amount'] = pd.to_numeric(budget_2016['amount'], errors='coerce') \n",
    "#print(budget_2016.columns)\n",
    "\n",
    "filtered_budget_2016 = budget_2016.query('budget_type == \"expense\" & budget_group in [\"property\", \"others\", \"financial_advice\", \"household\"]')\n",
    "grouped_budget_2016 = filtered_budget_2016.groupby(\"budget_group\")['amount'].sum()\n",
    "                                         \n"
   ]
  },
  {
   "cell_type": "markdown",
   "metadata": {},
   "source": [
    "## Process home ownership costs 2017\n",
    "\n",
    "- admin fees (housing association)\n",
    "- mortgage\n",
    "- utilities\n",
    "- maintenance"
   ]
  },
  {
   "cell_type": "markdown",
   "metadata": {},
   "source": [
    "#### Expenses 2017 ex. mortgage\n",
    "\n",
    "*There are missing expenses in the 2017 budget file from Oct to Dec. I will estimate the following costs for the period: mortgage, rent, service charge*\n",
    "\n"
   ]
  },
  {
   "cell_type": "code",
   "execution_count": 12,
   "metadata": {},
   "outputs": [
    {
     "name": "stdout",
     "output_type": "stream",
     "text": [
      "subcategory\n",
      "mortgage         -5096.48\n",
      "rent             -3966.69\n",
      "service charge   -1476.50\n",
      "council tax       -787.42\n",
      "heat              -504.40\n",
      "electricity       -238.00\n",
      "internet          -205.95\n",
      "water             -141.00\n",
      "kitchen            -88.98\n",
      "living room        -45.00\n",
      "Name: amount, dtype: float64\n"
     ]
    }
   ],
   "source": [
    "file_name = '2017_household_budget - expense_log.csv'\n",
    "budget_2017 = pd.read_csv(file_name)\n",
    "\n",
    "#clean data\n",
    "budget_2017['amount'] = pd.to_numeric(budget_2017['amount'], errors='coerce')\n",
    "\n",
    "#filter and group data\n",
    "subcategory_filter = ['council tax', 'electricity', 'heat', 'water', 'internet', 'improvements/repairs', \\\n",
    "                      'kitchen', 'living room', 'bathroom', 'bedroom', 'rent', 'mortgage', 'service charge', \\\n",
    "                      'income_protection'] \n",
    "#print(subcategory_filter)\n",
    "\n",
    "filtered_budget_2017 = budget_2017.query('category in [\"household\"] & subcategory in @subcategory_filter')\n",
    "grouped_budget_2017 = filtered_budget_2017.groupby(\"subcategory\")[\"amount\"].sum()\n",
    "sorted_budget_2017 = grouped_budget_2017.sort_values(ascending=True)\n",
    "print(sorted_budget_2017)\n",
    "\n"
   ]
  },
  {
   "cell_type": "markdown",
   "metadata": {},
   "source": [
    "#### Estimated costs 2017"
   ]
  },
  {
   "cell_type": "code",
   "execution_count": null,
   "metadata": {},
   "outputs": [],
   "source": [
    "#estimate mortgage, rent and service charge costs from sept to dec\n",
    "cost_estimate_filter = ['rent', 'mortgage', 'service charge', 'council tax']\n",
    "filtered_budget_estimate = budget_2017.query('category in [\"household\"] & subcategory in @cost_estimate_filter & month == 9')\n",
    "#service_charge_filter = budget_2017.query('subcategory == \"service charge\"')\n",
    "print(filtered_budget_estimate[['subcategory','amount']])\n"
   ]
  },
  {
   "cell_type": "code",
   "execution_count": 3,
   "metadata": {},
   "outputs": [
    {
     "name": "stdout",
     "output_type": "stream",
     "text": [
      "415\n"
     ]
    }
   ],
   "source": [
    "purchase_legal_fees = 350 + 2493.71\n",
    "mortgage_fees = 35 + 350 + 30 \n",
    "\n",
    "print(mortgage_fees)"
   ]
  },
  {
   "cell_type": "markdown",
   "metadata": {},
   "source": [
    "## Process home ownership costs 2018"
   ]
  },
  {
   "cell_type": "markdown",
   "metadata": {},
   "source": [
    "### Actual data 2018"
   ]
  },
  {
   "cell_type": "code",
   "execution_count": 57,
   "metadata": {},
   "outputs": [
    {
     "name": "stdout",
     "output_type": "stream",
     "text": [
      "[1, 2, 3, 4, 5, 6, 7, 8, 9, 10, 11, 12]\n",
      "subcategory\n",
      "mortgage         -6895.79\n",
      "rent             -4826.22\n",
      "service_charge   -1880.48\n",
      "council           -891.15\n",
      "income            -424.92\n",
      "home              -368.60\n",
      "heat              -361.03\n",
      "internet          -345.58\n",
      "other             -195.00\n",
      "phone             -193.03\n",
      "water             -172.00\n",
      "electricity       -167.50\n",
      "supplies           -23.18\n",
      "Name: amount, dtype: float64\n"
     ]
    }
   ],
   "source": [
    "import pandas as pd\n",
    "\n",
    "file_name = 'annual_budget_2018 - expense_log.csv'\n",
    "budget_2018 = pd.read_csv(file_name)\n",
    "budget_2018['amount'] = pd.to_numeric(budget_2018['amount'], errors='coerce')\n",
    "\n",
    "#review 2018 budget categories\n",
    "categories_2018 = budget_2018['category'].unique().tolist()\n",
    "subcategories_2018 = budget_2018['subcategory'].unique().tolist()\n",
    "months_2018 = budget_2018['month'].unique().tolist()\n",
    "#print(months_2018)\n",
    "\n",
    "#filter the data\n",
    "categories_2018_filter = ['home', 'utilities', 'insurance', 'tax']\n",
    "subcategories_2018_filter = ['mortgage', 'elecricity', 'water', 'home', 'internet', 'service_charge', 'heat']\n",
    "filtered_budget_2018 = budget_2018.query('category in @categories_2018_filter & subcategory in @subcategories_2018')\n",
    "\n",
    "#group and sort by subcategory\n",
    "grouped_budget_2018 = filtered_budget_2018.groupby('subcategory')['amount'].sum()\n",
    "sorted_budget_2018 = grouped_budget_2018.sort_values(ascending=True)\n",
    "print(sorted_budget_2018)\n",
    "\n",
    "#print(subcategories_2018)"
   ]
  },
  {
   "cell_type": "markdown",
   "metadata": {},
   "source": [
    "## Process homeownership costs 2019"
   ]
  },
  {
   "cell_type": "markdown",
   "metadata": {},
   "source": [
    "#### Actual data 2019"
   ]
  },
  {
   "cell_type": "code",
   "execution_count": 94,
   "metadata": {},
   "outputs": [
    {
     "name": "stdout",
     "output_type": "stream",
     "text": [
      "subcategory\n",
      "mortgage         -6609.42\n",
      "rent             -4978.21\n",
      "service_charge   -2175.66\n",
      "ground_rent       -516.69\n",
      "moving            -484.59\n",
      "maintenance       -475.62\n",
      "council_tax       -448.99\n",
      "heat              -261.26\n",
      "internet          -243.92\n",
      "phone             -198.48\n",
      "furnishings       -130.00\n",
      "water             -129.48\n",
      "landlord           -47.98\n",
      "home               -27.76\n",
      "Name: amount, dtype: float64\n",
      "           date type                                               note  \\\n",
      "538  21/08/2019  NaN                       BISL RAC INSURANCE        DD   \n",
      "586  16/10/2019  NaN  DIRECT LINE INS          FIRST PAYMENT        ...   \n",
      "635  14/11/2019  NaN                       DIRECT LINE INS           DD   \n",
      "646  16/12/2019  NaN                       DIRECT LINE INS           DD   \n",
      "\n",
      "     amount    group   category subcategory  month payment_method  \n",
      "538  -19.53  expense  insurance    landlord      8            NaN  \n",
      "586   -9.53  expense  insurance    landlord     10            NaN  \n",
      "635   -9.46  expense  insurance    landlord     11        hsbc_dd  \n",
      "646   -9.46  expense  insurance    landlord     12        hsbc_dd  \n"
     ]
    }
   ],
   "source": [
    "import pandas as pd\n",
    "\n",
    "#clean and format the data\n",
    "file_name = 'annual_budget_2019_GBP - expense_log.csv'\n",
    "budget_2019 = pd.read_csv(file_name)\n",
    "budget_2019['amount'] = pd.to_numeric(budget_2019['amount'], errors='coerce')\n",
    "#print(budget_2019.columns)\n",
    "\n",
    "#filter the data\n",
    "month_2019 = budget_2019['month'].unique()\n",
    "categories_2019 = budget_2019['category'].unique().tolist()\n",
    "subcategories_2019 = budget_2019['subcategory'].unique().tolist()\n",
    "\n",
    "#print(subcategories_2019)\n",
    "categories_2019_filter = ['insurance', 'tax', 'home', 'utilities']\n",
    "subcategories_2019_filter = ['elecricity', 'council_tax', 'mortgage', 'water', 'internet', 'rent', 'service_charge', 'heat', 'phone', 'ground_rent', 'furnishings', 'maintenance', 'home', 'landlord', 'moving']\n",
    "filtered_budget_2019 = budget_2019.query('category in @categories_2019_filter & subcategory in @subcategories_2019_filter')\n",
    "#print(filtered_budget_2019.head())\n",
    "grouped_budget_2019 = filtered_budget_2019.groupby('subcategory')['amount'].sum().sort_values(ascending=True)\n",
    "print(grouped_budget_2019)\n",
    "\n"
   ]
  },
  {
   "cell_type": "markdown",
   "metadata": {},
   "source": [
    "## Process homeownership data 2020"
   ]
  },
  {
   "cell_type": "markdown",
   "metadata": {},
   "source": [
    "#### Actual data 2020"
   ]
  },
  {
   "cell_type": "code",
   "execution_count": 107,
   "metadata": {},
   "outputs": [
    {
     "name": "stdout",
     "output_type": "stream",
     "text": [
      "['let_out_property', 'vision', 'trading_fee', 'landlord', 'mortgage', 'media', 'service_charge', 'admin_fee', 'rent', 'phone', 'realized_capital_gains', 'ground_rent', 'tuition', 'software', 'fx_fee', 'airfare', 'maintenance', 'other', 'online_services', 'cfa', 'restaurants', 'groceries', 'furnishings', 'water', 'public_transport', 'electricity', 'heat', 'paycheck', 'hair/beauty', 'clothes', 'other_2', 'hardware', 'internet', 'transportation', 'council_tax']\n"
     ]
    },
    {
     "data": {
      "text/plain": [
       "\"\\ncategories_2019_filter = ['insurance', 'tax', 'home', 'utilities']\\nsubcategories_2019_filter = ['elecricity', 'council_tax', 'mortgage', 'water', 'internet', 'rent', 'service_charge', 'heat', 'phone', 'ground_rent', 'furnishings', 'maintenance', 'home', 'landlord', 'moving']\\nfiltered_budget_2019 = budget_2019.query('category in @categories_2019_filter & subcategory in @subcategories_2019_filter')\\n#print(filtered_budget_2019.head())\\ngrouped_budget_2019 = filtered_budget_2019.groupby('subcategory')['amount'].sum().sort_values(ascending=True)\\nprint(grouped_budget_2019)\\n\""
      ]
     },
     "execution_count": 107,
     "metadata": {},
     "output_type": "execute_result"
    }
   ],
   "source": [
    "import pandas as pd\n",
    "\n",
    "#clean and format the data\n",
    "file_name = 'annual_budget_2020_GBP - expense_log.csv'\n",
    "budget_2020 = pd.read_csv(file_name)\n",
    "budget_2020['amount'] = pd.to_numeric(budget_2020['amount'], errors='coerce')\n",
    "#print(budget_2019.columns)\n",
    "\n",
    "#filter the data\n",
    "month_2020 = budget_2020['month'].unique()\n",
    "categories_2020 = budget_2020['category'].unique().tolist()\n",
    "subcategories_2020 = budget_2020['subcategory'].unique().tolist()\n",
    "\n",
    "print(subcategories_2020)\n",
    "'''\n",
    "categories_2019_filter = ['insurance', 'tax', 'home', 'utilities']\n",
    "subcategories_2019_filter = ['elecricity', 'council_tax', 'mortgage', 'water', 'internet', 'rent', 'service_charge', 'heat', 'phone', 'ground_rent', 'furnishings', 'maintenance', 'home', 'landlord', 'moving']\n",
    "filtered_budget_2019 = budget_2019.query('category in @categories_2019_filter & subcategory in @subcategories_2019_filter')\n",
    "#print(filtered_budget_2019.head())\n",
    "grouped_budget_2019 = filtered_budget_2019.groupby('subcategory')['amount'].sum().sort_values(ascending=True)\n",
    "print(grouped_budget_2019)\n",
    "'''\n"
   ]
  },
  {
   "cell_type": "markdown",
   "metadata": {},
   "source": [
    "### Inventory items and cost"
   ]
  },
  {
   "cell_type": "code",
   "execution_count": 2,
   "metadata": {},
   "outputs": [],
   "source": [
    "#initialize pandas\n",
    "import pandas as pd"
   ]
  },
  {
   "cell_type": "code",
   "execution_count": 4,
   "metadata": {},
   "outputs": [
    {
     "name": "stdout",
     "output_type": "stream",
     "text": [
      "              item purchase_price purchase_year\n",
      "0           fridge         160.00          2016\n",
      "1       dishwasher         254.00          2020\n",
      "2  washing machine         160.00          2016\n",
      "3    kitchen table          40.00          2019\n",
      "4           chairs         130.00          2019\n",
      "5         sofa bed         450.00          2016\n",
      "6              bed         385.00          2016\n",
      "7         wardrobe         160.00          2016\n",
      "8          library          35.00          2019\n",
      "9             desk         200.00          2016\n",
      "1974.0\n"
     ]
    }
   ],
   "source": [
    "#create a dataframe with two columns [inventory item, purchase date, purchase price, resale price]\n",
    "\n",
    "FH_inventory = {\n",
    "    'item': ['fridge', 'dishwasher', 'washing machine', 'kitchen table', 'chairs', 'sofa bed', 'bed', 'wardrobe', 'library', 'desk'],\n",
    "    'purchase_price': ['160.00', '254.00', '160.00', '40.00', '130.00', '450.00', '385.00', '160.00', '35.00', '200.00'],\n",
    "    'purchase_year': ['2016', '2020', '2016', '2019', '2019', '2016', '2016', '2016', '2019', '2016']\n",
    "}\n",
    "FH_inventory_df = pd.DataFrame(FH_inventory)\n",
    "print(FH_inventory_df)\n",
    "FH_inventory_df['purchase_price'] = pd.to_numeric(FH_inventory_df['purchase_price'], errors='coerce')\n",
    "\n",
    "\n",
    "FH_inventory_total = FH_inventory_df['purchase_price'].sum()\n",
    "print(FH_inventory_total)"
   ]
  },
  {
   "cell_type": "code",
   "execution_count": 8,
   "metadata": {},
   "outputs": [
    {
     "name": "stdout",
     "output_type": "stream",
     "text": [
      "           date    amount                                               note\n",
      "106  02/10/2020   -£27.95  AMZNMktplace             amazon.co.uk         ...\n",
      "209  25/11/2020  -£254.00  PAYPAL *PCW PAYPAL       35314369001: KENWOOD ...\n",
      "210  25/11/2020   -£56.00  PAYPAL *PCW PAYPAL       35314369001: KENWOOD ...\n"
     ]
    }
   ],
   "source": [
    "#dishwasher purchase price\n",
    "file_path = r\"C:\\Users\\gcalisi\\Downloads\\annual_budget_2020_GBP - expense_log.csv\"\n",
    "budget_2020 = pd.read_csv(file_path)\n",
    "\n",
    "is_group = budget_2020[\"group\"] == 'expense'\n",
    "is_category = budget_2020[\"category\"] == 'home'\n",
    "is_subcategory = budget_2020[\"subcategory\"] == 'furnishings'\n",
    "is_month = budget_2020[\"month\"] = 11\n",
    "\n",
    "budget_2020_filtered = budget_2020[is_group & is_category & is_subcategory]\n",
    "print(budget_2020_filtered[['date', 'amount', 'note']])"
   ]
  },
  {
   "cell_type": "markdown",
   "metadata": {},
   "source": [
    "#### Kitchen chairs boght from LASSCO London Bridge in 2019"
   ]
  },
  {
   "cell_type": "code",
   "execution_count": 2,
   "metadata": {},
   "outputs": [],
   "source": [
    "#load 2016 expense log file and filter it by category and subcategory\n",
    "file_path = r\"C:\\Users\\gcalisi\\Downloads\\annual_budget_2019_GBP - expense_log.csv\"\n",
    "budget_2019 = pd.read_csv(file_path)"
   ]
  },
  {
   "cell_type": "code",
   "execution_count": 17,
   "metadata": {},
   "outputs": [
    {
     "name": "stdout",
     "output_type": "stream",
     "text": [
      "Index(['date', 'type', 'note', 'amount', 'group', 'category', 'subcategory',\n",
      "       'month', 'payment_method'],\n",
      "      dtype='object')\n",
      "           date                                               note   amount\n",
      "433  03/07/2019  RGM Decorators           4 FH First Pmt       ...  -200.00\n",
      "439  06/07/2019  RGM Decorators           4 FH Second Pmt      ...  -530.00\n",
      "474  22/07/2019  LASSCO - ROPEWALK        LONDON               ...  -130.00\n"
     ]
    }
   ],
   "source": [
    "print(budget_2019.columns)\n",
    "\n",
    "#how do I group by category?\n",
    "budget_2019_categories = budget_2019.groupby('category')\n",
    "budget_2019_totals = budget_2019_categories['amount'].sum()\n",
    "#print(budget_2019_totals)\n",
    "\n",
    "is_category = 'home'\n",
    "budget_2019_filtered = budget_2019.query(\"category == 'home' and subcategory in ['furnishings', 'improvements']\")\n",
    "print(budget_2019_filtered[['date', 'note', 'amount']])"
   ]
  },
  {
   "cell_type": "code",
   "execution_count": null,
   "metadata": {},
   "outputs": [],
   "source": []
  }
 ],
 "metadata": {
  "kernelspec": {
   "display_name": "Python 3",
   "language": "python",
   "name": "python3"
  },
  "language_info": {
   "codemirror_mode": {
    "name": "ipython",
    "version": 3
   },
   "file_extension": ".py",
   "mimetype": "text/x-python",
   "name": "python",
   "nbconvert_exporter": "python",
   "pygments_lexer": "ipython3",
   "version": "3.7.6"
  }
 },
 "nbformat": 4,
 "nbformat_minor": 4
}
